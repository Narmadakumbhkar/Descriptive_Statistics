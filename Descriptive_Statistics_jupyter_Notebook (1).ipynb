{
 "cells": [
  {
   "cell_type": "markdown",
   "id": "c0172f9e",
   "metadata": {},
   "source": [
    "<p style='color:black;background-color:lightpink;border-style:soild;border-color:black;margin:5px;text-align:center;padding:7px;font-style:italic;border-style: dashed;border-radius:23px'>**Descriptive Stats**"
   ]
  },
  {
   "cell_type": "code",
   "execution_count": 1,
   "id": "9a528e70",
   "metadata": {},
   "outputs": [],
   "source": [
    "%matplotlib inline\n",
    "\n",
    "# import Libraries\n",
    "\n",
    "import numpy as np\n",
    "import pandas as pd\n",
    "import matplotlib.pyplot as plt\n",
    "import seaborn as sns\n",
    "\n",
    "# import warnings\n",
    "import warnings\n",
    "warnings.filterwarnings('ignore')\n",
    "\n",
    "# ipython\n",
    "# from ipython.core.interactiveshell import interactiveshell\n",
    "# interactiveshell.ast_node_interactivity='all'\n"
   ]
  },
  {
   "cell_type": "markdown",
   "id": "70005a83",
   "metadata": {},
   "source": [
    "<p style='color:Black;background-color:yellow;border-style: outset;border-radius:23px; width:253px;height:30px'> **Available Seaborn datasets\n",
    "    \n"
   ]
  },
  {
   "cell_type": "markdown",
   "id": "56ecbaa9",
   "metadata": {},
   "source": [
    "#print(sns.get_dataset_names())"
   ]
  },
  {
   "cell_type": "markdown",
   "id": "c809e1f0",
   "metadata": {},
   "source": [
    "<p style='color:Black;background-color:yellow;border-style: outset;border-radius:23px;width:250px;height:30px'> **Load Diamond Dataset\n"
   ]
  },
  {
   "cell_type": "code",
   "execution_count": 2,
   "id": "8dd9028c",
   "metadata": {},
   "outputs": [
    {
     "data": {
      "text/html": [
       "<div>\n",
       "<style scoped>\n",
       "    .dataframe tbody tr th:only-of-type {\n",
       "        vertical-align: middle;\n",
       "    }\n",
       "\n",
       "    .dataframe tbody tr th {\n",
       "        vertical-align: top;\n",
       "    }\n",
       "\n",
       "    .dataframe thead th {\n",
       "        text-align: right;\n",
       "    }\n",
       "</style>\n",
       "<table border=\"1\" class=\"dataframe\">\n",
       "  <thead>\n",
       "    <tr style=\"text-align: right;\">\n",
       "      <th></th>\n",
       "      <th>Unnamed: 0</th>\n",
       "      <th>carat</th>\n",
       "      <th>cut</th>\n",
       "      <th>color</th>\n",
       "      <th>clarity</th>\n",
       "      <th>depth</th>\n",
       "      <th>table</th>\n",
       "      <th>price</th>\n",
       "      <th>x</th>\n",
       "      <th>y</th>\n",
       "      <th>z</th>\n",
       "    </tr>\n",
       "  </thead>\n",
       "  <tbody>\n",
       "    <tr>\n",
       "      <th>0</th>\n",
       "      <td>1</td>\n",
       "      <td>0.23</td>\n",
       "      <td>Ideal</td>\n",
       "      <td>E</td>\n",
       "      <td>SI2</td>\n",
       "      <td>61.5</td>\n",
       "      <td>55.0</td>\n",
       "      <td>326</td>\n",
       "      <td>3.95</td>\n",
       "      <td>3.98</td>\n",
       "      <td>2.43</td>\n",
       "    </tr>\n",
       "    <tr>\n",
       "      <th>1</th>\n",
       "      <td>2</td>\n",
       "      <td>0.21</td>\n",
       "      <td>Premium</td>\n",
       "      <td>E</td>\n",
       "      <td>SI1</td>\n",
       "      <td>59.8</td>\n",
       "      <td>61.0</td>\n",
       "      <td>326</td>\n",
       "      <td>3.89</td>\n",
       "      <td>3.84</td>\n",
       "      <td>2.31</td>\n",
       "    </tr>\n",
       "    <tr>\n",
       "      <th>2</th>\n",
       "      <td>3</td>\n",
       "      <td>0.23</td>\n",
       "      <td>Good</td>\n",
       "      <td>E</td>\n",
       "      <td>VS1</td>\n",
       "      <td>56.9</td>\n",
       "      <td>65.0</td>\n",
       "      <td>327</td>\n",
       "      <td>4.05</td>\n",
       "      <td>4.07</td>\n",
       "      <td>2.31</td>\n",
       "    </tr>\n",
       "    <tr>\n",
       "      <th>3</th>\n",
       "      <td>4</td>\n",
       "      <td>0.29</td>\n",
       "      <td>Premium</td>\n",
       "      <td>I</td>\n",
       "      <td>VS2</td>\n",
       "      <td>62.4</td>\n",
       "      <td>58.0</td>\n",
       "      <td>334</td>\n",
       "      <td>4.20</td>\n",
       "      <td>4.23</td>\n",
       "      <td>2.63</td>\n",
       "    </tr>\n",
       "    <tr>\n",
       "      <th>4</th>\n",
       "      <td>5</td>\n",
       "      <td>0.31</td>\n",
       "      <td>Good</td>\n",
       "      <td>J</td>\n",
       "      <td>SI2</td>\n",
       "      <td>63.3</td>\n",
       "      <td>58.0</td>\n",
       "      <td>335</td>\n",
       "      <td>4.34</td>\n",
       "      <td>4.35</td>\n",
       "      <td>2.75</td>\n",
       "    </tr>\n",
       "  </tbody>\n",
       "</table>\n",
       "</div>"
      ],
      "text/plain": [
       "   Unnamed: 0  carat      cut color clarity  depth  table  price     x     y  \\\n",
       "0           1   0.23    Ideal     E     SI2   61.5   55.0    326  3.95  3.98   \n",
       "1           2   0.21  Premium     E     SI1   59.8   61.0    326  3.89  3.84   \n",
       "2           3   0.23     Good     E     VS1   56.9   65.0    327  4.05  4.07   \n",
       "3           4   0.29  Premium     I     VS2   62.4   58.0    334  4.20  4.23   \n",
       "4           5   0.31     Good     J     SI2   63.3   58.0    335  4.34  4.35   \n",
       "\n",
       "      z  \n",
       "0  2.43  \n",
       "1  2.31  \n",
       "2  2.31  \n",
       "3  2.63  \n",
       "4  2.75  "
      ]
     },
     "execution_count": 2,
     "metadata": {},
     "output_type": "execute_result"
    }
   ],
   "source": [
    "diamonds = pd.read_csv('diamonds.csv')\n",
    "diamonds.head()"
   ]
  },
  {
   "cell_type": "markdown",
   "id": "ef31772d",
   "metadata": {},
   "source": [
    "<p style='color:Black;background-color:yellow;border-style: outset;border-radius:23px;width:250px;height:30px'> **info"
   ]
  },
  {
   "cell_type": "code",
   "execution_count": 3,
   "id": "d89e129f",
   "metadata": {},
   "outputs": [
    {
     "name": "stdout",
     "output_type": "stream",
     "text": [
      "<class 'pandas.core.frame.DataFrame'>\n",
      "RangeIndex: 53940 entries, 0 to 53939\n",
      "Data columns (total 11 columns):\n",
      " #   Column      Non-Null Count  Dtype  \n",
      "---  ------      --------------  -----  \n",
      " 0   Unnamed: 0  53940 non-null  int64  \n",
      " 1   carat       53940 non-null  float64\n",
      " 2   cut         53940 non-null  object \n",
      " 3   color       53940 non-null  object \n",
      " 4   clarity     53940 non-null  object \n",
      " 5   depth       53940 non-null  float64\n",
      " 6   table       53940 non-null  float64\n",
      " 7   price       53940 non-null  int64  \n",
      " 8   x           53940 non-null  float64\n",
      " 9   y           53940 non-null  float64\n",
      " 10  z           53940 non-null  float64\n",
      "dtypes: float64(6), int64(2), object(3)\n",
      "memory usage: 4.5+ MB\n"
     ]
    }
   ],
   "source": [
    "diamonds.info()"
   ]
  },
  {
   "cell_type": "markdown",
   "id": "bee8c25f",
   "metadata": {},
   "source": [
    "<p style='color:Black;background-color:yellow;border-style: outset;border-radius:23px;width:250px;height:30px'> **Descriptive Statistics"
   ]
  },
  {
   "cell_type": "code",
   "execution_count": 4,
   "id": "f2a22b2d",
   "metadata": {},
   "outputs": [
    {
     "data": {
      "text/html": [
       "<div>\n",
       "<style scoped>\n",
       "    .dataframe tbody tr th:only-of-type {\n",
       "        vertical-align: middle;\n",
       "    }\n",
       "\n",
       "    .dataframe tbody tr th {\n",
       "        vertical-align: top;\n",
       "    }\n",
       "\n",
       "    .dataframe thead th {\n",
       "        text-align: right;\n",
       "    }\n",
       "</style>\n",
       "<table border=\"1\" class=\"dataframe\">\n",
       "  <thead>\n",
       "    <tr style=\"text-align: right;\">\n",
       "      <th></th>\n",
       "      <th>Unnamed: 0</th>\n",
       "      <th>carat</th>\n",
       "      <th>depth</th>\n",
       "      <th>table</th>\n",
       "      <th>price</th>\n",
       "      <th>x</th>\n",
       "      <th>y</th>\n",
       "      <th>z</th>\n",
       "    </tr>\n",
       "  </thead>\n",
       "  <tbody>\n",
       "    <tr>\n",
       "      <th>count</th>\n",
       "      <td>53940.000000</td>\n",
       "      <td>53940.000000</td>\n",
       "      <td>53940.000000</td>\n",
       "      <td>53940.000000</td>\n",
       "      <td>53940.000000</td>\n",
       "      <td>53940.000000</td>\n",
       "      <td>53940.000000</td>\n",
       "      <td>53940.000000</td>\n",
       "    </tr>\n",
       "    <tr>\n",
       "      <th>mean</th>\n",
       "      <td>26970.500000</td>\n",
       "      <td>0.797940</td>\n",
       "      <td>61.749405</td>\n",
       "      <td>57.457184</td>\n",
       "      <td>3932.799722</td>\n",
       "      <td>5.731157</td>\n",
       "      <td>5.734526</td>\n",
       "      <td>3.538734</td>\n",
       "    </tr>\n",
       "    <tr>\n",
       "      <th>std</th>\n",
       "      <td>15571.281097</td>\n",
       "      <td>0.474011</td>\n",
       "      <td>1.432621</td>\n",
       "      <td>2.234491</td>\n",
       "      <td>3989.439738</td>\n",
       "      <td>1.121761</td>\n",
       "      <td>1.142135</td>\n",
       "      <td>0.705699</td>\n",
       "    </tr>\n",
       "    <tr>\n",
       "      <th>min</th>\n",
       "      <td>1.000000</td>\n",
       "      <td>0.200000</td>\n",
       "      <td>43.000000</td>\n",
       "      <td>43.000000</td>\n",
       "      <td>326.000000</td>\n",
       "      <td>0.000000</td>\n",
       "      <td>0.000000</td>\n",
       "      <td>0.000000</td>\n",
       "    </tr>\n",
       "    <tr>\n",
       "      <th>25%</th>\n",
       "      <td>13485.750000</td>\n",
       "      <td>0.400000</td>\n",
       "      <td>61.000000</td>\n",
       "      <td>56.000000</td>\n",
       "      <td>950.000000</td>\n",
       "      <td>4.710000</td>\n",
       "      <td>4.720000</td>\n",
       "      <td>2.910000</td>\n",
       "    </tr>\n",
       "    <tr>\n",
       "      <th>50%</th>\n",
       "      <td>26970.500000</td>\n",
       "      <td>0.700000</td>\n",
       "      <td>61.800000</td>\n",
       "      <td>57.000000</td>\n",
       "      <td>2401.000000</td>\n",
       "      <td>5.700000</td>\n",
       "      <td>5.710000</td>\n",
       "      <td>3.530000</td>\n",
       "    </tr>\n",
       "    <tr>\n",
       "      <th>75%</th>\n",
       "      <td>40455.250000</td>\n",
       "      <td>1.040000</td>\n",
       "      <td>62.500000</td>\n",
       "      <td>59.000000</td>\n",
       "      <td>5324.250000</td>\n",
       "      <td>6.540000</td>\n",
       "      <td>6.540000</td>\n",
       "      <td>4.040000</td>\n",
       "    </tr>\n",
       "    <tr>\n",
       "      <th>max</th>\n",
       "      <td>53940.000000</td>\n",
       "      <td>5.010000</td>\n",
       "      <td>79.000000</td>\n",
       "      <td>95.000000</td>\n",
       "      <td>18823.000000</td>\n",
       "      <td>10.740000</td>\n",
       "      <td>58.900000</td>\n",
       "      <td>31.800000</td>\n",
       "    </tr>\n",
       "  </tbody>\n",
       "</table>\n",
       "</div>"
      ],
      "text/plain": [
       "         Unnamed: 0         carat         depth         table         price  \\\n",
       "count  53940.000000  53940.000000  53940.000000  53940.000000  53940.000000   \n",
       "mean   26970.500000      0.797940     61.749405     57.457184   3932.799722   \n",
       "std    15571.281097      0.474011      1.432621      2.234491   3989.439738   \n",
       "min        1.000000      0.200000     43.000000     43.000000    326.000000   \n",
       "25%    13485.750000      0.400000     61.000000     56.000000    950.000000   \n",
       "50%    26970.500000      0.700000     61.800000     57.000000   2401.000000   \n",
       "75%    40455.250000      1.040000     62.500000     59.000000   5324.250000   \n",
       "max    53940.000000      5.010000     79.000000     95.000000  18823.000000   \n",
       "\n",
       "                  x             y             z  \n",
       "count  53940.000000  53940.000000  53940.000000  \n",
       "mean       5.731157      5.734526      3.538734  \n",
       "std        1.121761      1.142135      0.705699  \n",
       "min        0.000000      0.000000      0.000000  \n",
       "25%        4.710000      4.720000      2.910000  \n",
       "50%        5.700000      5.710000      3.530000  \n",
       "75%        6.540000      6.540000      4.040000  \n",
       "max       10.740000     58.900000     31.800000  "
      ]
     },
     "execution_count": 4,
     "metadata": {},
     "output_type": "execute_result"
    }
   ],
   "source": [
    "diamonds.describe()"
   ]
  },
  {
   "cell_type": "markdown",
   "id": "1f8c5f40",
   "metadata": {},
   "source": [
    "<p style='color:Black;background-color:yellow;border-style: outset;border-radius:23px;width:250px;height:30px'> **Separating X,Y"
   ]
  },
  {
   "cell_type": "code",
   "execution_count": 5,
   "id": "9bf3e84d",
   "metadata": {},
   "outputs": [],
   "source": [
    "Y=diamonds.price\n",
    "X=diamonds.drop('price',axis=1)"
   ]
  },
  {
   "cell_type": "markdown",
   "id": "0f3fe042",
   "metadata": {},
   "source": [
    "<p style='color:Black;background-color:yellow;border-style: outset;border-radius:23px;width:250px;height:30px'> **Visualizing Outlier Boxplot"
   ]
  },
  {
   "cell_type": "code",
   "execution_count": 6,
   "id": "d4d76e16",
   "metadata": {},
   "outputs": [
    {
     "data": {
      "image/png": "[encoded data removed]",
      "text/plain": [
       "<Figure size 1080x1080 with 1 Axes>"
      ]
     },
     "metadata": {
      "needs_background": "light"
     },
     "output_type": "display_data"
    }
   ],
   "source": [
    "X.boxplot(figsize=(15,15))\n",
    "plt.show()"
   ]
  },
  {
   "cell_type": "markdown",
   "id": "0030e8b2",
   "metadata": {},
   "source": [
    "<p style='color:blue;background-color:lightgreen;padding:5px;margin:2px;text-align:center;border-color:red;border-style:dotted;border-width:5px'> Measures of Central Tendency</p>"
   ]
  },
  {
   "cell_type": "markdown",
   "id": "c6739b9b",
   "metadata": {},
   "source": [
    "1. Mean\n",
    "2. Median\n",
    "3. Mode"
   ]
  },
  {
   "cell_type": "code",
   "execution_count": 10,
   "id": "f5564e43",
   "metadata": {},
   "outputs": [
    {
     "data": {
      "text/html": [
       "<div>\n",
       "<style scoped>\n",
       "    .dataframe tbody tr th:only-of-type {\n",
       "        vertical-align: middle;\n",
       "    }\n",
       "\n",
       "    .dataframe tbody tr th {\n",
       "        vertical-align: top;\n",
       "    }\n",
       "\n",
       "    .dataframe thead th {\n",
       "        text-align: right;\n",
       "    }\n",
       "</style>\n",
       "<table border=\"1\" class=\"dataframe\">\n",
       "  <thead>\n",
       "    <tr style=\"text-align: right;\">\n",
       "      <th></th>\n",
       "      <th>Unnamed: 0</th>\n",
       "      <th>carat</th>\n",
       "      <th>cut</th>\n",
       "      <th>color</th>\n",
       "      <th>clarity</th>\n",
       "      <th>depth</th>\n",
       "      <th>table</th>\n",
       "      <th>x</th>\n",
       "      <th>y</th>\n",
       "      <th>z</th>\n",
       "    </tr>\n",
       "  </thead>\n",
       "  <tbody>\n",
       "    <tr>\n",
       "      <th>0</th>\n",
       "      <td>1</td>\n",
       "      <td>0.23</td>\n",
       "      <td>Ideal</td>\n",
       "      <td>E</td>\n",
       "      <td>SI2</td>\n",
       "      <td>61.5</td>\n",
       "      <td>55.0</td>\n",
       "      <td>3.95</td>\n",
       "      <td>3.98</td>\n",
       "      <td>2.43</td>\n",
       "    </tr>\n",
       "    <tr>\n",
       "      <th>1</th>\n",
       "      <td>2</td>\n",
       "      <td>0.21</td>\n",
       "      <td>Premium</td>\n",
       "      <td>E</td>\n",
       "      <td>SI1</td>\n",
       "      <td>59.8</td>\n",
       "      <td>61.0</td>\n",
       "      <td>3.89</td>\n",
       "      <td>3.84</td>\n",
       "      <td>2.31</td>\n",
       "    </tr>\n",
       "    <tr>\n",
       "      <th>2</th>\n",
       "      <td>3</td>\n",
       "      <td>0.23</td>\n",
       "      <td>Good</td>\n",
       "      <td>E</td>\n",
       "      <td>VS1</td>\n",
       "      <td>56.9</td>\n",
       "      <td>65.0</td>\n",
       "      <td>4.05</td>\n",
       "      <td>4.07</td>\n",
       "      <td>2.31</td>\n",
       "    </tr>\n",
       "    <tr>\n",
       "      <th>3</th>\n",
       "      <td>4</td>\n",
       "      <td>0.29</td>\n",
       "      <td>Premium</td>\n",
       "      <td>I</td>\n",
       "      <td>VS2</td>\n",
       "      <td>62.4</td>\n",
       "      <td>58.0</td>\n",
       "      <td>4.20</td>\n",
       "      <td>4.23</td>\n",
       "      <td>2.63</td>\n",
       "    </tr>\n",
       "    <tr>\n",
       "      <th>4</th>\n",
       "      <td>5</td>\n",
       "      <td>0.31</td>\n",
       "      <td>Good</td>\n",
       "      <td>J</td>\n",
       "      <td>SI2</td>\n",
       "      <td>63.3</td>\n",
       "      <td>58.0</td>\n",
       "      <td>4.34</td>\n",
       "      <td>4.35</td>\n",
       "      <td>2.75</td>\n",
       "    </tr>\n",
       "    <tr>\n",
       "      <th>...</th>\n",
       "      <td>...</td>\n",
       "      <td>...</td>\n",
       "      <td>...</td>\n",
       "      <td>...</td>\n",
       "      <td>...</td>\n",
       "      <td>...</td>\n",
       "      <td>...</td>\n",
       "      <td>...</td>\n",
       "      <td>...</td>\n",
       "      <td>...</td>\n",
       "    </tr>\n",
       "    <tr>\n",
       "      <th>53935</th>\n",
       "      <td>53936</td>\n",
       "      <td>0.72</td>\n",
       "      <td>Ideal</td>\n",
       "      <td>D</td>\n",
       "      <td>SI1</td>\n",
       "      <td>60.8</td>\n",
       "      <td>57.0</td>\n",
       "      <td>5.75</td>\n",
       "      <td>5.76</td>\n",
       "      <td>3.50</td>\n",
       "    </tr>\n",
       "    <tr>\n",
       "      <th>53936</th>\n",
       "      <td>53937</td>\n",
       "      <td>0.72</td>\n",
       "      <td>Good</td>\n",
       "      <td>D</td>\n",
       "      <td>SI1</td>\n",
       "      <td>63.1</td>\n",
       "      <td>55.0</td>\n",
       "      <td>5.69</td>\n",
       "      <td>5.75</td>\n",
       "      <td>3.61</td>\n",
       "    </tr>\n",
       "    <tr>\n",
       "      <th>53937</th>\n",
       "      <td>53938</td>\n",
       "      <td>0.70</td>\n",
       "      <td>Very Good</td>\n",
       "      <td>D</td>\n",
       "      <td>SI1</td>\n",
       "      <td>62.8</td>\n",
       "      <td>60.0</td>\n",
       "      <td>5.66</td>\n",
       "      <td>5.68</td>\n",
       "      <td>3.56</td>\n",
       "    </tr>\n",
       "    <tr>\n",
       "      <th>53938</th>\n",
       "      <td>53939</td>\n",
       "      <td>0.86</td>\n",
       "      <td>Premium</td>\n",
       "      <td>H</td>\n",
       "      <td>SI2</td>\n",
       "      <td>61.0</td>\n",
       "      <td>58.0</td>\n",
       "      <td>6.15</td>\n",
       "      <td>6.12</td>\n",
       "      <td>3.74</td>\n",
       "    </tr>\n",
       "    <tr>\n",
       "      <th>53939</th>\n",
       "      <td>53940</td>\n",
       "      <td>0.75</td>\n",
       "      <td>Ideal</td>\n",
       "      <td>D</td>\n",
       "      <td>SI2</td>\n",
       "      <td>62.2</td>\n",
       "      <td>55.0</td>\n",
       "      <td>5.83</td>\n",
       "      <td>5.87</td>\n",
       "      <td>3.64</td>\n",
       "    </tr>\n",
       "  </tbody>\n",
       "</table>\n",
       "<p>53940 rows × 10 columns</p>\n",
       "</div>"
      ],
      "text/plain": [
       "       Unnamed: 0  carat        cut color clarity  depth  table     x     y  \\\n",
       "0               1   0.23      Ideal     E     SI2   61.5   55.0  3.95  3.98   \n",
       "1               2   0.21    Premium     E     SI1   59.8   61.0  3.89  3.84   \n",
       "2               3   0.23       Good     E     VS1   56.9   65.0  4.05  4.07   \n",
       "3               4   0.29    Premium     I     VS2   62.4   58.0  4.20  4.23   \n",
       "4               5   0.31       Good     J     SI2   63.3   58.0  4.34  4.35   \n",
       "...           ...    ...        ...   ...     ...    ...    ...   ...   ...   \n",
       "53935       53936   0.72      Ideal     D     SI1   60.8   57.0  5.75  5.76   \n",
       "53936       53937   0.72       Good     D     SI1   63.1   55.0  5.69  5.75   \n",
       "53937       53938   0.70  Very Good     D     SI1   62.8   60.0  5.66  5.68   \n",
       "53938       53939   0.86    Premium     H     SI2   61.0   58.0  6.15  6.12   \n",
       "53939       53940   0.75      Ideal     D     SI2   62.2   55.0  5.83  5.87   \n",
       "\n",
       "          z  \n",
       "0      2.43  \n",
       "1      2.31  \n",
       "2      2.31  \n",
       "3      2.63  \n",
       "4      2.75  \n",
       "...     ...  \n",
       "53935  3.50  \n",
       "53936  3.61  \n",
       "53937  3.56  \n",
       "53938  3.74  \n",
       "53939  3.64  \n",
       "\n",
       "[53940 rows x 10 columns]"
      ]
     },
     "execution_count": 10,
     "metadata": {},
     "output_type": "execute_result"
    }
   ],
   "source": [
    "X"
   ]
  },
  {
   "cell_type": "code",
   "execution_count": 19,
   "id": "e34e7068",
   "metadata": {},
   "outputs": [
    {
     "data": {
      "text/plain": [
       "Unnamed: 0        1\n",
       "carat           0.3\n",
       "cut           Ideal\n",
       "color             G\n",
       "clarity         SI1\n",
       "depth          62.0\n",
       "table          56.0\n",
       "x              4.37\n",
       "y              4.34\n",
       "z               2.7\n",
       "Name: 0, dtype: object"
      ]
     },
     "execution_count": 19,
     "metadata": {},
     "output_type": "execute_result"
    }
   ],
   "source": [
    "X.mode().loc[0]"
   ]
  },
  {
   "cell_type": "markdown",
   "id": "de7d6304",
   "metadata": {},
   "source": [
    "<p style='color:Black;background-color:pink;border-style: outset;border-radius:23px;width:250px;height:30px'> **Median Carat"
   ]
  },
  {
   "cell_type": "code",
   "execution_count": 5,
   "id": "5e7349b1",
   "metadata": {},
   "outputs": [],
   "source": [
    "#cut['carat'].median()\n",
    "#cut['carat'].median().plot(kind='bar')\n"
   ]
  },
  {
   "cell_type": "markdown",
   "id": "50438589",
   "metadata": {},
   "source": [
    "<p style='color:Black;background-color:pink;border-style: outset;border-radius:23px;width:250px;height:30px'> **Mode"
   ]
  },
  {
   "cell_type": "code",
   "execution_count": 22,
   "id": "bd6b75a0",
   "metadata": {},
   "outputs": [
    {
     "data": {
      "text/html": [
       "<div>\n",
       "<style scoped>\n",
       "    .dataframe tbody tr th:only-of-type {\n",
       "        vertical-align: middle;\n",
       "    }\n",
       "\n",
       "    .dataframe tbody tr th {\n",
       "        vertical-align: top;\n",
       "    }\n",
       "\n",
       "    .dataframe thead th {\n",
       "        text-align: right;\n",
       "    }\n",
       "</style>\n",
       "<table border=\"1\" class=\"dataframe\">\n",
       "  <thead>\n",
       "    <tr style=\"text-align: right;\">\n",
       "      <th></th>\n",
       "      <th>Unnamed: 0</th>\n",
       "      <th>carat</th>\n",
       "      <th>cut</th>\n",
       "      <th>color</th>\n",
       "      <th>clarity</th>\n",
       "      <th>depth</th>\n",
       "      <th>table</th>\n",
       "      <th>price</th>\n",
       "      <th>x</th>\n",
       "      <th>y</th>\n",
       "      <th>z</th>\n",
       "    </tr>\n",
       "  </thead>\n",
       "  <tbody>\n",
       "    <tr>\n",
       "      <th>0</th>\n",
       "      <td>1</td>\n",
       "      <td>0.3</td>\n",
       "      <td>Ideal</td>\n",
       "      <td>G</td>\n",
       "      <td>SI1</td>\n",
       "      <td>62.0</td>\n",
       "      <td>56.0</td>\n",
       "      <td>605.0</td>\n",
       "      <td>4.37</td>\n",
       "      <td>4.34</td>\n",
       "      <td>2.7</td>\n",
       "    </tr>\n",
       "    <tr>\n",
       "      <th>1</th>\n",
       "      <td>2</td>\n",
       "      <td>NaN</td>\n",
       "      <td>NaN</td>\n",
       "      <td>NaN</td>\n",
       "      <td>NaN</td>\n",
       "      <td>NaN</td>\n",
       "      <td>NaN</td>\n",
       "      <td>NaN</td>\n",
       "      <td>NaN</td>\n",
       "      <td>NaN</td>\n",
       "      <td>NaN</td>\n",
       "    </tr>\n",
       "    <tr>\n",
       "      <th>2</th>\n",
       "      <td>3</td>\n",
       "      <td>NaN</td>\n",
       "      <td>NaN</td>\n",
       "      <td>NaN</td>\n",
       "      <td>NaN</td>\n",
       "      <td>NaN</td>\n",
       "      <td>NaN</td>\n",
       "      <td>NaN</td>\n",
       "      <td>NaN</td>\n",
       "      <td>NaN</td>\n",
       "      <td>NaN</td>\n",
       "    </tr>\n",
       "    <tr>\n",
       "      <th>3</th>\n",
       "      <td>4</td>\n",
       "      <td>NaN</td>\n",
       "      <td>NaN</td>\n",
       "      <td>NaN</td>\n",
       "      <td>NaN</td>\n",
       "      <td>NaN</td>\n",
       "      <td>NaN</td>\n",
       "      <td>NaN</td>\n",
       "      <td>NaN</td>\n",
       "      <td>NaN</td>\n",
       "      <td>NaN</td>\n",
       "    </tr>\n",
       "    <tr>\n",
       "      <th>4</th>\n",
       "      <td>5</td>\n",
       "      <td>NaN</td>\n",
       "      <td>NaN</td>\n",
       "      <td>NaN</td>\n",
       "      <td>NaN</td>\n",
       "      <td>NaN</td>\n",
       "      <td>NaN</td>\n",
       "      <td>NaN</td>\n",
       "      <td>NaN</td>\n",
       "      <td>NaN</td>\n",
       "      <td>NaN</td>\n",
       "    </tr>\n",
       "    <tr>\n",
       "      <th>...</th>\n",
       "      <td>...</td>\n",
       "      <td>...</td>\n",
       "      <td>...</td>\n",
       "      <td>...</td>\n",
       "      <td>...</td>\n",
       "      <td>...</td>\n",
       "      <td>...</td>\n",
       "      <td>...</td>\n",
       "      <td>...</td>\n",
       "      <td>...</td>\n",
       "      <td>...</td>\n",
       "    </tr>\n",
       "    <tr>\n",
       "      <th>53935</th>\n",
       "      <td>53936</td>\n",
       "      <td>NaN</td>\n",
       "      <td>NaN</td>\n",
       "      <td>NaN</td>\n",
       "      <td>NaN</td>\n",
       "      <td>NaN</td>\n",
       "      <td>NaN</td>\n",
       "      <td>NaN</td>\n",
       "      <td>NaN</td>\n",
       "      <td>NaN</td>\n",
       "      <td>NaN</td>\n",
       "    </tr>\n",
       "    <tr>\n",
       "      <th>53936</th>\n",
       "      <td>53937</td>\n",
       "      <td>NaN</td>\n",
       "      <td>NaN</td>\n",
       "      <td>NaN</td>\n",
       "      <td>NaN</td>\n",
       "      <td>NaN</td>\n",
       "      <td>NaN</td>\n",
       "      <td>NaN</td>\n",
       "      <td>NaN</td>\n",
       "      <td>NaN</td>\n",
       "      <td>NaN</td>\n",
       "    </tr>\n",
       "    <tr>\n",
       "      <th>53937</th>\n",
       "      <td>53938</td>\n",
       "      <td>NaN</td>\n",
       "      <td>NaN</td>\n",
       "      <td>NaN</td>\n",
       "      <td>NaN</td>\n",
       "      <td>NaN</td>\n",
       "      <td>NaN</td>\n",
       "      <td>NaN</td>\n",
       "      <td>NaN</td>\n",
       "      <td>NaN</td>\n",
       "      <td>NaN</td>\n",
       "    </tr>\n",
       "    <tr>\n",
       "      <th>53938</th>\n",
       "      <td>53939</td>\n",
       "      <td>NaN</td>\n",
       "      <td>NaN</td>\n",
       "      <td>NaN</td>\n",
       "      <td>NaN</td>\n",
       "      <td>NaN</td>\n",
       "      <td>NaN</td>\n",
       "      <td>NaN</td>\n",
       "      <td>NaN</td>\n",
       "      <td>NaN</td>\n",
       "      <td>NaN</td>\n",
       "    </tr>\n",
       "    <tr>\n",
       "      <th>53939</th>\n",
       "      <td>53940</td>\n",
       "      <td>NaN</td>\n",
       "      <td>NaN</td>\n",
       "      <td>NaN</td>\n",
       "      <td>NaN</td>\n",
       "      <td>NaN</td>\n",
       "      <td>NaN</td>\n",
       "      <td>NaN</td>\n",
       "      <td>NaN</td>\n",
       "      <td>NaN</td>\n",
       "      <td>NaN</td>\n",
       "    </tr>\n",
       "  </tbody>\n",
       "</table>\n",
       "<p>53940 rows × 11 columns</p>\n",
       "</div>"
      ],
      "text/plain": [
       "       Unnamed: 0  carat    cut color clarity  depth  table  price     x  \\\n",
       "0               1    0.3  Ideal     G     SI1   62.0   56.0  605.0  4.37   \n",
       "1               2    NaN    NaN   NaN     NaN    NaN    NaN    NaN   NaN   \n",
       "2               3    NaN    NaN   NaN     NaN    NaN    NaN    NaN   NaN   \n",
       "3               4    NaN    NaN   NaN     NaN    NaN    NaN    NaN   NaN   \n",
       "4               5    NaN    NaN   NaN     NaN    NaN    NaN    NaN   NaN   \n",
       "...           ...    ...    ...   ...     ...    ...    ...    ...   ...   \n",
       "53935       53936    NaN    NaN   NaN     NaN    NaN    NaN    NaN   NaN   \n",
       "53936       53937    NaN    NaN   NaN     NaN    NaN    NaN    NaN   NaN   \n",
       "53937       53938    NaN    NaN   NaN     NaN    NaN    NaN    NaN   NaN   \n",
       "53938       53939    NaN    NaN   NaN     NaN    NaN    NaN    NaN   NaN   \n",
       "53939       53940    NaN    NaN   NaN     NaN    NaN    NaN    NaN   NaN   \n",
       "\n",
       "          y    z  \n",
       "0      4.34  2.7  \n",
       "1       NaN  NaN  \n",
       "2       NaN  NaN  \n",
       "3       NaN  NaN  \n",
       "4       NaN  NaN  \n",
       "...     ...  ...  \n",
       "53935   NaN  NaN  \n",
       "53936   NaN  NaN  \n",
       "53937   NaN  NaN  \n",
       "53938   NaN  NaN  \n",
       "53939   NaN  NaN  \n",
       "\n",
       "[53940 rows x 11 columns]"
      ]
     },
     "execution_count": 22,
     "metadata": {},
     "output_type": "execute_result"
    }
   ],
   "source": [
    "diamonds.mode()"
   ]
  },
  {
   "cell_type": "markdown",
   "id": "a750dd3e",
   "metadata": {},
   "source": [
    "<p style='color:Black;background-color:pink;border-style: outset;border-radius:23px;width:350px;height:30px'> **InteractiveShell.ast_node_interactivity='none'"
   ]
  },
  {
   "cell_type": "code",
   "execution_count": 23,
   "id": "4497d61e",
   "metadata": {},
   "outputs": [
    {
     "data": {
      "text/plain": [
       "<Figure size 1440x1440 with 0 Axes>"
      ]
     },
     "metadata": {},
     "output_type": "display_data"
    }
   ],
   "source": [
    "c=1\n",
    "plt.figure(figsize=(20,20))\n",
    "for i in diamonds.columns:\n",
    "    if diamonds[i].dtype=='category':\n",
    "#         diamonds[i].mode()\n",
    "        plt.subplot(3,3,c,label=i)\n",
    "        diamonds[i].value_counts().plot(kind='bar')\n",
    "        plt.legend()\n",
    "        plt.tight_layout()\n",
    "        c+=1\n",
    "\n",
    "plt.show()    #     plt.subplots()"
   ]
  },
  {
   "cell_type": "markdown",
   "id": "7f74ba37",
   "metadata": {},
   "source": [
    "<p style='color:Black;background-color:pink;border-style: outset;border-radius:23px;width:250px;height:30px'> **Mean Carat"
   ]
  },
  {
   "cell_type": "code",
   "execution_count": 12,
   "id": "f7049429",
   "metadata": {},
   "outputs": [
    {
     "data": {
      "image/png": "[encoded data removed]",
      "text/plain": [
       "<Figure size 432x288 with 1 Axes>"
      ]
     },
     "metadata": {
      "needs_background": "light"
     },
     "output_type": "display_data"
    }
   ],
   "source": [
    "cut=X.groupby('cut')\n",
    "cut.mean()\n",
    "cut.mean().plot(kind='bar')\n",
    "plt.show()"
   ]
  },
  {
   "cell_type": "markdown",
   "id": "e548e7bc",
   "metadata": {},
   "source": [
    "<p style='color:Black;background-color:pink;border-style: outset;border-radius:23px;width:350px;height:50px'> **Analyse Mean and median for color and Clarity **Mean carat"
   ]
  },
  {
   "cell_type": "code",
   "execution_count": 13,
   "id": "f1c661f4",
   "metadata": {},
   "outputs": [
    {
     "data": {
      "image/png": "[encoded data removed]",
      "text/plain": [
       "<Figure size 432x288 with 1 Axes>"
      ]
     },
     "metadata": {
      "needs_background": "light"
     },
     "output_type": "display_data"
    }
   ],
   "source": [
    "cut=X.groupby('color')\n",
    "cut.mean()\n",
    "cut.mean().plot(kind='bar')\n",
    "plt.show()"
   ]
  },
  {
   "cell_type": "markdown",
   "id": "8997baf6",
   "metadata": {},
   "source": [
    "<p style='color:Black;background-color:pink;border-style: outset;border-radius:23px;width:250px;height:30px'> **Mean"
   ]
  },
  {
   "cell_type": "code",
   "execution_count": 14,
   "id": "1e6ad36b",
   "metadata": {},
   "outputs": [
    {
     "data": {
      "image/png": "[encoded data removed]",
      "text/plain": [
       "<Figure size 432x288 with 1 Axes>"
      ]
     },
     "metadata": {
      "needs_background": "light"
     },
     "output_type": "display_data"
    }
   ],
   "source": [
    "cut=X.groupby('cut')\n",
    "cut.mean()\n",
    "cut.mean().plot(kind='bar')\n",
    "plt.show()"
   ]
  },
  {
   "cell_type": "code",
   "execution_count": 15,
   "id": "66570f45",
   "metadata": {},
   "outputs": [
    {
     "data": {
      "text/plain": [
       "Index(['Unnamed: 0', 'carat', 'cut', 'color', 'clarity', 'depth', 'table', 'x',\n",
       "       'y', 'z'],\n",
       "      dtype='object')"
      ]
     },
     "execution_count": 15,
     "metadata": {},
     "output_type": "execute_result"
    }
   ],
   "source": [
    "X.columns"
   ]
  },
  {
   "cell_type": "code",
   "execution_count": 16,
   "id": "55f8a142",
   "metadata": {},
   "outputs": [
    {
     "data": {
      "text/html": [
       "<div>\n",
       "<style scoped>\n",
       "    .dataframe tbody tr th:only-of-type {\n",
       "        vertical-align: middle;\n",
       "    }\n",
       "\n",
       "    .dataframe tbody tr th {\n",
       "        vertical-align: top;\n",
       "    }\n",
       "\n",
       "    .dataframe thead th {\n",
       "        text-align: right;\n",
       "    }\n",
       "</style>\n",
       "<table border=\"1\" class=\"dataframe\">\n",
       "  <thead>\n",
       "    <tr style=\"text-align: right;\">\n",
       "      <th></th>\n",
       "      <th>Unnamed: 0</th>\n",
       "      <th>carat</th>\n",
       "      <th>cut</th>\n",
       "      <th>color</th>\n",
       "      <th>clarity</th>\n",
       "      <th>depth</th>\n",
       "      <th>table</th>\n",
       "      <th>x</th>\n",
       "      <th>y</th>\n",
       "      <th>z</th>\n",
       "    </tr>\n",
       "  </thead>\n",
       "  <tbody>\n",
       "    <tr>\n",
       "      <th>0</th>\n",
       "      <td>1</td>\n",
       "      <td>0.3</td>\n",
       "      <td>Ideal</td>\n",
       "      <td>G</td>\n",
       "      <td>SI1</td>\n",
       "      <td>62.0</td>\n",
       "      <td>56.0</td>\n",
       "      <td>4.37</td>\n",
       "      <td>4.34</td>\n",
       "      <td>2.7</td>\n",
       "    </tr>\n",
       "    <tr>\n",
       "      <th>1</th>\n",
       "      <td>2</td>\n",
       "      <td>NaN</td>\n",
       "      <td>NaN</td>\n",
       "      <td>NaN</td>\n",
       "      <td>NaN</td>\n",
       "      <td>NaN</td>\n",
       "      <td>NaN</td>\n",
       "      <td>NaN</td>\n",
       "      <td>NaN</td>\n",
       "      <td>NaN</td>\n",
       "    </tr>\n",
       "    <tr>\n",
       "      <th>2</th>\n",
       "      <td>3</td>\n",
       "      <td>NaN</td>\n",
       "      <td>NaN</td>\n",
       "      <td>NaN</td>\n",
       "      <td>NaN</td>\n",
       "      <td>NaN</td>\n",
       "      <td>NaN</td>\n",
       "      <td>NaN</td>\n",
       "      <td>NaN</td>\n",
       "      <td>NaN</td>\n",
       "    </tr>\n",
       "    <tr>\n",
       "      <th>3</th>\n",
       "      <td>4</td>\n",
       "      <td>NaN</td>\n",
       "      <td>NaN</td>\n",
       "      <td>NaN</td>\n",
       "      <td>NaN</td>\n",
       "      <td>NaN</td>\n",
       "      <td>NaN</td>\n",
       "      <td>NaN</td>\n",
       "      <td>NaN</td>\n",
       "      <td>NaN</td>\n",
       "    </tr>\n",
       "    <tr>\n",
       "      <th>4</th>\n",
       "      <td>5</td>\n",
       "      <td>NaN</td>\n",
       "      <td>NaN</td>\n",
       "      <td>NaN</td>\n",
       "      <td>NaN</td>\n",
       "      <td>NaN</td>\n",
       "      <td>NaN</td>\n",
       "      <td>NaN</td>\n",
       "      <td>NaN</td>\n",
       "      <td>NaN</td>\n",
       "    </tr>\n",
       "    <tr>\n",
       "      <th>...</th>\n",
       "      <td>...</td>\n",
       "      <td>...</td>\n",
       "      <td>...</td>\n",
       "      <td>...</td>\n",
       "      <td>...</td>\n",
       "      <td>...</td>\n",
       "      <td>...</td>\n",
       "      <td>...</td>\n",
       "      <td>...</td>\n",
       "      <td>...</td>\n",
       "    </tr>\n",
       "    <tr>\n",
       "      <th>53935</th>\n",
       "      <td>53936</td>\n",
       "      <td>NaN</td>\n",
       "      <td>NaN</td>\n",
       "      <td>NaN</td>\n",
       "      <td>NaN</td>\n",
       "      <td>NaN</td>\n",
       "      <td>NaN</td>\n",
       "      <td>NaN</td>\n",
       "      <td>NaN</td>\n",
       "      <td>NaN</td>\n",
       "    </tr>\n",
       "    <tr>\n",
       "      <th>53936</th>\n",
       "      <td>53937</td>\n",
       "      <td>NaN</td>\n",
       "      <td>NaN</td>\n",
       "      <td>NaN</td>\n",
       "      <td>NaN</td>\n",
       "      <td>NaN</td>\n",
       "      <td>NaN</td>\n",
       "      <td>NaN</td>\n",
       "      <td>NaN</td>\n",
       "      <td>NaN</td>\n",
       "    </tr>\n",
       "    <tr>\n",
       "      <th>53937</th>\n",
       "      <td>53938</td>\n",
       "      <td>NaN</td>\n",
       "      <td>NaN</td>\n",
       "      <td>NaN</td>\n",
       "      <td>NaN</td>\n",
       "      <td>NaN</td>\n",
       "      <td>NaN</td>\n",
       "      <td>NaN</td>\n",
       "      <td>NaN</td>\n",
       "      <td>NaN</td>\n",
       "    </tr>\n",
       "    <tr>\n",
       "      <th>53938</th>\n",
       "      <td>53939</td>\n",
       "      <td>NaN</td>\n",
       "      <td>NaN</td>\n",
       "      <td>NaN</td>\n",
       "      <td>NaN</td>\n",
       "      <td>NaN</td>\n",
       "      <td>NaN</td>\n",
       "      <td>NaN</td>\n",
       "      <td>NaN</td>\n",
       "      <td>NaN</td>\n",
       "    </tr>\n",
       "    <tr>\n",
       "      <th>53939</th>\n",
       "      <td>53940</td>\n",
       "      <td>NaN</td>\n",
       "      <td>NaN</td>\n",
       "      <td>NaN</td>\n",
       "      <td>NaN</td>\n",
       "      <td>NaN</td>\n",
       "      <td>NaN</td>\n",
       "      <td>NaN</td>\n",
       "      <td>NaN</td>\n",
       "      <td>NaN</td>\n",
       "    </tr>\n",
       "  </tbody>\n",
       "</table>\n",
       "<p>53940 rows × 10 columns</p>\n",
       "</div>"
      ],
      "text/plain": [
       "       Unnamed: 0  carat    cut color clarity  depth  table     x     y    z\n",
       "0               1    0.3  Ideal     G     SI1   62.0   56.0  4.37  4.34  2.7\n",
       "1               2    NaN    NaN   NaN     NaN    NaN    NaN   NaN   NaN  NaN\n",
       "2               3    NaN    NaN   NaN     NaN    NaN    NaN   NaN   NaN  NaN\n",
       "3               4    NaN    NaN   NaN     NaN    NaN    NaN   NaN   NaN  NaN\n",
       "4               5    NaN    NaN   NaN     NaN    NaN    NaN   NaN   NaN  NaN\n",
       "...           ...    ...    ...   ...     ...    ...    ...   ...   ...  ...\n",
       "53935       53936    NaN    NaN   NaN     NaN    NaN    NaN   NaN   NaN  NaN\n",
       "53936       53937    NaN    NaN   NaN     NaN    NaN    NaN   NaN   NaN  NaN\n",
       "53937       53938    NaN    NaN   NaN     NaN    NaN    NaN   NaN   NaN  NaN\n",
       "53938       53939    NaN    NaN   NaN     NaN    NaN    NaN   NaN   NaN  NaN\n",
       "53939       53940    NaN    NaN   NaN     NaN    NaN    NaN   NaN   NaN  NaN\n",
       "\n",
       "[53940 rows x 10 columns]"
      ]
     },
     "execution_count": 16,
     "metadata": {},
     "output_type": "execute_result"
    }
   ],
   "source": [
    "X.mode()"
   ]
  },
  {
   "cell_type": "markdown",
   "id": "0ebf9dd5",
   "metadata": {},
   "source": [
    "<p style='color:red;background-color:green;padding:5px;margin:2px;text-align:center;border-color:red;border-style:dotted;border-width:5px'> Measures of Dispersion</p>"
   ]
  },
  {
   "cell_type": "markdown",
   "id": "629cbaa9",
   "metadata": {},
   "source": [
    "1. Range\n",
    "2. Variance\n",
    "3. Standard Deviation"
   ]
  },
  {
   "cell_type": "markdown",
   "id": "d54c4a34",
   "metadata": {},
   "source": [
    "<p style='color:Black;background-color:skyblue;border-style: outset;border-radius:23px;width:250px;height:30px'> **range"
   ]
  },
  {
   "cell_type": "code",
   "execution_count": 3,
   "id": "4d5d49d3",
   "metadata": {},
   "outputs": [],
   "source": [
    "# diamonds.max()-diamonds.min()"
   ]
  },
  {
   "cell_type": "code",
   "execution_count": 4,
   "id": "de728f7f",
   "metadata": {},
   "outputs": [],
   "source": [
    "#(X.max()-X.min()).plot(kind='bar',color='green')"
   ]
  },
  {
   "cell_type": "code",
   "execution_count": 27,
   "id": "239a9992",
   "metadata": {},
   "outputs": [
    {
     "name": "stdout",
     "output_type": "stream",
     "text": [
      "price: 18497\n"
     ]
    }
   ],
   "source": [
    "print('price:',Y.max()-Y.min())"
   ]
  },
  {
   "cell_type": "markdown",
   "id": "843ca8ad",
   "metadata": {},
   "source": [
    "<p style='color:Black;background-color:skyblue;border-style: outset;border-radius:23px;width:250px;height:30px'> **Variance"
   ]
  },
  {
   "cell_type": "markdown",
   "id": "7fdf6ed7",
   "metadata": {},
   "source": [
    "<p style='text-align:center'>  $ \\sigma^2 = \\frac{\\displaystyle\\sum_{i=1}^{n}(x_i - \\bar{x})^2} {n} $\n",
    "</p>"
   ]
  },
  {
   "cell_type": "markdown",
   "id": "a794c6fd",
   "metadata": {},
   "source": [
    "### 1.Variance is a measure of dispersion that takes into account the spread of all data points in a data set.\n",
    "\n",
    "### 2. In simple words, the variance is a measure of how far a set of data are dispersed out from their mean or average value. It is denoted as σ 2.\n",
    "### 3. It is always non-negative since each term in the variance sum is squared and therefore the result is either positive or zero. "
   ]
  },
  {
   "cell_type": "code",
   "execution_count": 26,
   "id": "83461c58",
   "metadata": {
    "scrolled": true
   },
   "outputs": [
    {
     "data": {
      "text/plain": [
       "0    326\n",
       "1    326\n",
       "2    327\n",
       "3    334\n",
       "4    335\n",
       "5    336\n",
       "Name: price, dtype: int64"
      ]
     },
     "execution_count": 26,
     "metadata": {},
     "output_type": "execute_result"
    }
   ],
   "source": [
    "Y[0:6]"
   ]
  },
  {
   "cell_type": "code",
   "execution_count": 25,
   "id": "1c063fba",
   "metadata": {},
   "outputs": [
    {
     "data": {
      "text/plain": [
       "15915333.36257625"
      ]
     },
     "execution_count": 25,
     "metadata": {},
     "output_type": "execute_result"
    }
   ],
   "source": [
    "sum([(i-Y.mean())**2 for i in Y])/len(Y)-1"
   ]
  },
  {
   "cell_type": "markdown",
   "id": "8c4c84b7",
   "metadata": {},
   "source": [
    "<p style='color:Black;background-color:skyblue;border-style: outset;border-radius:23px;width:250px;height:30px'> **Variation Sample"
   ]
  },
  {
   "cell_type": "code",
   "execution_count": 24,
   "id": "5bb8e5ea",
   "metadata": {},
   "outputs": [
    {
     "data": {
      "text/plain": [
       "15915333.36257625"
      ]
     },
     "execution_count": 24,
     "metadata": {},
     "output_type": "execute_result"
    }
   ],
   "source": [
    "deviation=[(i-Y.mean())**2 for i in Y]\n",
    "sum(deviation)/len(Y)-1"
   ]
  },
  {
   "cell_type": "markdown",
   "id": "da85cbde",
   "metadata": {},
   "source": [
    "<p style='color:Black;background-color:skyblue;border-style: outset;border-radius:23px;width:250px;height:30px'> **Variation Population"
   ]
  },
  {
   "cell_type": "code",
   "execution_count": 23,
   "id": "eca2d23f",
   "metadata": {},
   "outputs": [
    {
     "data": {
      "text/plain": [
       "15915629.424300838"
      ]
     },
     "execution_count": 23,
     "metadata": {},
     "output_type": "execute_result"
    }
   ],
   "source": [
    "Y.var()"
   ]
  },
  {
   "cell_type": "markdown",
   "id": "3964aa65",
   "metadata": {},
   "source": [
    "<p style='color:Black;background-color:skyblue;border-style: outset;border-radius:23px;width:250px;height:30px'> **Standard Deviation"
   ]
  },
  {
   "cell_type": "markdown",
   "id": "3f2e8d9f",
   "metadata": {},
   "source": [
    " <p style='text-align:center'>$\\sqrt{\\frac{1}{N-1} \\sum_{i=1}^N (x_i - \\overline{x})^2} $</p>\n"
   ]
  },
  {
   "cell_type": "markdown",
   "id": "f11ff470",
   "metadata": {},
   "source": [
    "### Standard deviation is the spread of a group of numbers from the mean."
   ]
  },
  {
   "cell_type": "code",
   "execution_count": 31,
   "id": "53c029d3",
   "metadata": {},
   "outputs": [
    {
     "data": {
      "text/plain": [
       "3989.4026322967516"
      ]
     },
     "execution_count": 31,
     "metadata": {},
     "output_type": "execute_result"
    }
   ],
   "source": [
    "np.sqrt(sum(deviation)/len(Y)-1)"
   ]
  },
  {
   "cell_type": "code",
   "execution_count": 32,
   "id": "3d1f7037",
   "metadata": {},
   "outputs": [
    {
     "data": {
      "text/plain": [
       "3989.4397381463023"
      ]
     },
     "execution_count": 32,
     "metadata": {},
     "output_type": "execute_result"
    }
   ],
   "source": [
    "Y.std()"
   ]
  },
  {
   "cell_type": "markdown",
   "id": "d652d348",
   "metadata": {},
   "source": [
    "<p style='color:Black;background-color:skyblue;border-style: outset;border-radius:23px;width:250px;height:30px'> **Box and Whisker Plot "
   ]
  },
  {
   "cell_type": "code",
   "execution_count": 33,
   "id": "a5bfca18",
   "metadata": {},
   "outputs": [
    {
     "data": {
      "text/plain": [
       "{'whiskers': [array([950., 326.]), array([ 5324.25, 11883.  ])],\n",
       " 'caps': [array([326, 326], dtype=int64), array([11883, 11883], dtype=int64)],\n",
       " 'boxes': [array([ 950.  ,  950.  , 5324.25, 5324.25,  950.  ])],\n",
       " 'medians': [array([2401., 2401.])],\n",
       " 'fliers': [array([11886, 11886, 11888, ..., 18806, 18818, 18823], dtype=int64)],\n",
       " 'means': []}"
      ]
     },
     "execution_count": 33,
     "metadata": {},
     "output_type": "execute_result"
    },
    {
     "data": {
      "image/png": "[encoded data removed]",
      "text/plain": [
       "<Figure size 432x288 with 1 Axes>"
      ]
     },
     "metadata": {
      "needs_background": "light"
     },
     "output_type": "display_data"
    },
    {
     "data": {
      "text/plain": [
       "<Figure size 1440x1440 with 0 Axes>"
      ]
     },
     "metadata": {},
     "output_type": "display_data"
    }
   ],
   "source": [
    "box=plt.boxplot(Y)\n",
    "\n",
    "\n",
    "val={}\n",
    "plt.figure(figsize=(20,20))\n",
    "x=1\n",
    "for i in box:\n",
    "    comp=[item.get_ydata() for item in box[i]]\n",
    "    val[i]=comp\n",
    "val"
   ]
  },
  {
   "cell_type": "markdown",
   "id": "fe3aba87",
   "metadata": {},
   "source": [
    "<p style='color:black;background-color:orange;border-style:dotted;border-color:blue;margin:5px;text-align:center;padding:5px'>Transformation</p>"
   ]
  },
  {
   "cell_type": "markdown",
   "id": "546a349b",
   "metadata": {},
   "source": [
    "### Skewness refers to a distortion or asymmetry that deviates from the symmetrical bell curve, or normal distribution, in a set of data. If the curve is shifted to the left or to the right, it is said to be skewed.\n",
    "\n",
    "### <img src='https://i.imgur.com/6SH4wau.png'>\n",
    "\n",
    "### * Less than -1 or greater than 1, then the distribution is highly skewed.\n",
    "### * Between -1 and -0.5 or 0.5 and 1, then the distribution is moderately skewed.\n",
    "### * Between -0.5 and 0.5, then the distribution is approx. symmetric."
   ]
  },
  {
   "cell_type": "code",
   "execution_count": 34,
   "id": "18a16e60",
   "metadata": {},
   "outputs": [
    {
     "data": {
      "text/plain": [
       "<AxesSubplot:>"
      ]
     },
     "execution_count": 34,
     "metadata": {},
     "output_type": "execute_result"
    },
    {
     "data": {
      "image/png": "[encoded data removed]",
      "text/plain": [
       "<Figure size 432x288 with 1 Axes>"
      ]
     },
     "metadata": {
      "needs_background": "light"
     },
     "output_type": "display_data"
    }
   ],
   "source": [
    "Y.hist()"
   ]
  },
  {
   "cell_type": "code",
   "execution_count": 35,
   "id": "999be0d1",
   "metadata": {},
   "outputs": [
    {
     "data": {
      "image/png": "[encoded data removed]",
      "text/plain": [
       "<Figure size 360x360 with 1 Axes>"
      ]
     },
     "metadata": {
      "needs_background": "light"
     },
     "output_type": "display_data"
    }
   ],
   "source": [
    "sns.displot(Y,kde=True)\n",
    "plt.show()"
   ]
  },
  {
   "cell_type": "code",
   "execution_count": 36,
   "id": "98b35874",
   "metadata": {},
   "outputs": [
    {
     "data": {
      "text/plain": [
       "1.618395283383529"
      ]
     },
     "execution_count": 36,
     "metadata": {},
     "output_type": "execute_result"
    }
   ],
   "source": [
    "Y.skew()"
   ]
  },
  {
   "cell_type": "code",
   "execution_count": 37,
   "id": "8d096daf",
   "metadata": {},
   "outputs": [
    {
     "data": {
      "text/plain": [
       "0.11529585821715065"
      ]
     },
     "execution_count": 37,
     "metadata": {},
     "output_type": "execute_result"
    },
    {
     "data": {
      "image/png": "[encoded data removed]",
      "text/plain": [
       "<Figure size 432x288 with 1 Axes>"
      ]
     },
     "metadata": {
      "needs_background": "light"
     },
     "output_type": "display_data"
    }
   ],
   "source": [
    "np.log(Y).hist()\n",
    "(np.log(Y)).skew()"
   ]
  },
  {
   "cell_type": "code",
   "execution_count": 38,
   "id": "20707382",
   "metadata": {},
   "outputs": [
    {
     "data": {
      "text/plain": [
       "0.11529585821714602"
      ]
     },
     "execution_count": 38,
     "metadata": {},
     "output_type": "execute_result"
    },
    {
     "data": {
      "image/png": "[encoded data removed]",
      "text/plain": [
       "<Figure size 432x288 with 1 Axes>"
      ]
     },
     "metadata": {
      "needs_background": "light"
     },
     "output_type": "display_data"
    }
   ],
   "source": [
    "np.log2(Y).hist()\n",
    "np.log2(Y).skew()"
   ]
  },
  {
   "cell_type": "code",
   "execution_count": 39,
   "id": "228f8348",
   "metadata": {},
   "outputs": [],
   "source": [
    "from scipy.stats import boxcox"
   ]
  },
  {
   "cell_type": "code",
   "execution_count": 40,
   "id": "23ce54f7",
   "metadata": {},
   "outputs": [
    {
     "data": {
      "text/plain": [
       "0.02557750226591505"
      ]
     },
     "execution_count": 40,
     "metadata": {},
     "output_type": "execute_result"
    },
    {
     "data": {
      "image/png": "[encoded data removed]",
      "text/plain": [
       "<Figure size 360x360 with 1 Axes>"
      ]
     },
     "metadata": {
      "needs_background": "light"
     },
     "output_type": "display_data"
    }
   ],
   "source": [
    "sns.displot(boxcox(Y)[0],kde=True)\n",
    "pd.Series(boxcox(Y)[0]).skew()"
   ]
  },
  {
   "cell_type": "markdown",
   "id": "73b1f642",
   "metadata": {},
   "source": [
    "<p style='color:Black;background-color:skyblue;border-style: outset;border-radius:23px;width:250px;height:30px'> **Kurtosis"
   ]
  },
  {
   "cell_type": "markdown",
   "id": "e6d6dee6",
   "metadata": {},
   "source": [
    "### <img src='https://editor.analyticsvidhya.com/uploads/57983kurt1.png' alt='kurt img is supposed to be here if not chage the srcc link'>\n",
    "\n",
    "### * Kurtosis tells you the height and sharpness if the central peak.\n",
    "### * A normal distribution will have kurtosis value exactly 3. It is called as Mesokurtic.\n",
    "### * A distribution with kurtosis <3 is called Platykurtic. Compared to a Normal distribution, the tails are shorter and central peak is lower and broader.\n",
    "### * A distribution with kurtosis >3 is called as Leptokurtic, where tails are longer and central peak is taller and sharper."
   ]
  },
  {
   "cell_type": "code",
   "execution_count": 41,
   "id": "8a1b8d81",
   "metadata": {},
   "outputs": [
    {
     "data": {
      "text/plain": [
       "2.17769575924869"
      ]
     },
     "execution_count": 41,
     "metadata": {},
     "output_type": "execute_result"
    }
   ],
   "source": [
    "Y.kurt()"
   ]
  },
  {
   "cell_type": "markdown",
   "id": "2caa1bc6",
   "metadata": {},
   "source": [
    " <p style='color:green;background-color:lightblue;border-style:dotted;border-color:red;margin:5px;text-align:center;padding:5px'>Encoding</p>"
   ]
  },
  {
   "cell_type": "markdown",
   "id": "d39d2373",
   "metadata": {},
   "source": [
    "<p style='color:Black;background-color:skyblue;border-style: outset;border-radius:23px;width:250px;height:30px'> **Binning"
   ]
  },
  {
   "cell_type": "code",
   "execution_count": 42,
   "id": "edd3dd24",
   "metadata": {},
   "outputs": [
    {
     "data": {
      "text/plain": [
       "18497"
      ]
     },
     "execution_count": 42,
     "metadata": {},
     "output_type": "execute_result"
    }
   ],
   "source": [
    "Y.max()-Y.min()"
   ]
  },
  {
   "cell_type": "code",
   "execution_count": 43,
   "id": "a94658e0",
   "metadata": {},
   "outputs": [
    {
     "data": {
      "image/png": "[encoded data removed]",
      "text/plain": [
       "<Figure size 432x288 with 1 Axes>"
      ]
     },
     "metadata": {
      "needs_background": "light"
     },
     "output_type": "display_data"
    }
   ],
   "source": [
    "bins=[0,3000,5000,8000,50000]\n",
    "ninned=pd.cut(Y,bins=bins,labels=['cheap','moderate','expensive','premium'])\n",
    "ninned.value_counts().plot(kind='bar')\n",
    "plt.show()"
   ]
  },
  {
   "cell_type": "markdown",
   "id": "7d56cf19",
   "metadata": {},
   "source": [
    "## Label Encoding:"
   ]
  },
  {
   "cell_type": "code",
   "execution_count": 44,
   "id": "70cc9271",
   "metadata": {},
   "outputs": [
    {
     "data": {
      "text/plain": [
       "array([0, 0, 0, ..., 0, 0, 0])"
      ]
     },
     "execution_count": 44,
     "metadata": {},
     "output_type": "execute_result"
    }
   ],
   "source": [
    "from sklearn.preprocessing import LabelEncoder\n",
    "\n",
    "le=LabelEncoder()\n",
    "Y_enc=le.fit_transform(ninned)\n",
    "Y_enc"
   ]
  }
 ],
 "metadata": {
  "kernelspec": {
   "display_name": "Python 3 (ipykernel)",
   "language": "python",
   "name": "python3"
  },
  "language_info": {
   "codemirror_mode": {
    "name": "ipython",
    "version": 3
   },
   "file_extension": ".py",
   "mimetype": "text/x-python",
   "name": "python",
   "nbconvert_exporter": "python",
   "pygments_lexer": "ipython3",
   "version": "3.9.12"
  }
 },
 "nbformat": 4,
 "nbformat_minor": 5
}
